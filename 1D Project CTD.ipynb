$ git clone git@github.com:feistyduck/the_repo
